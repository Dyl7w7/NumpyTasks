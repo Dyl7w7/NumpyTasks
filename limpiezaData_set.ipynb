{
 "cells": [
  {
   "cell_type": "code",
   "execution_count": 12,
   "metadata": {},
   "outputs": [
    {
     "name": "stdout",
     "output_type": "stream",
     "text": [
      "<class 'pandas.core.frame.DataFrame'>\n",
      "RangeIndex: 45215 entries, 0 to 45214\n",
      "Data columns (total 17 columns):\n",
      " #   Column     Non-Null Count  Dtype  \n",
      "---  ------     --------------  -----  \n",
      " 0   age        45215 non-null  int64  \n",
      " 1   job        45213 non-null  object \n",
      " 2   marital    45214 non-null  object \n",
      " 3   education  45214 non-null  object \n",
      " 4   default    45215 non-null  object \n",
      " 5   balance    45213 non-null  float64\n",
      " 6   housing    45215 non-null  object \n",
      " 7   loan       45215 non-null  object \n",
      " 8   contact    45215 non-null  object \n",
      " 9   day        45215 non-null  int64  \n",
      " 10  month      45215 non-null  object \n",
      " 11  duration   45214 non-null  float64\n",
      " 12  campaign   45215 non-null  int64  \n",
      " 13  pdays      45214 non-null  float64\n",
      " 14  previous   45215 non-null  int64  \n",
      " 15  poutcome   45215 non-null  object \n",
      " 16  y          45215 non-null  object \n",
      "dtypes: float64(3), int64(4), object(10)\n",
      "memory usage: 5.9+ MB\n"
     ]
    }
   ],
   "source": [
    "import pandas as pd\n",
    "\n",
    "data = pd.read_csv(\"dataset_banco.csv\", delimiter=\",\")\n",
    "\n",
    "data.info()"
   ]
  },
  {
   "cell_type": "code",
   "execution_count": 13,
   "metadata": {},
   "outputs": [
    {
     "name": "stdout",
     "output_type": "stream",
     "text": [
      "<class 'pandas.core.frame.DataFrame'>\n",
      "Index: 45207 entries, 0 to 45214\n",
      "Data columns (total 17 columns):\n",
      " #   Column     Non-Null Count  Dtype  \n",
      "---  ------     --------------  -----  \n",
      " 0   age        45207 non-null  int64  \n",
      " 1   job        45207 non-null  object \n",
      " 2   marital    45207 non-null  object \n",
      " 3   education  45207 non-null  object \n",
      " 4   default    45207 non-null  object \n",
      " 5   balance    45207 non-null  float64\n",
      " 6   housing    45207 non-null  object \n",
      " 7   loan       45207 non-null  object \n",
      " 8   contact    45207 non-null  object \n",
      " 9   day        45207 non-null  int64  \n",
      " 10  month      45207 non-null  object \n",
      " 11  duration   45207 non-null  float64\n",
      " 12  campaign   45207 non-null  int64  \n",
      " 13  pdays      45207 non-null  float64\n",
      " 14  previous   45207 non-null  int64  \n",
      " 15  poutcome   45207 non-null  object \n",
      " 16  y          45207 non-null  object \n",
      "dtypes: float64(3), int64(4), object(10)\n",
      "memory usage: 6.2+ MB\n"
     ]
    }
   ],
   "source": [
    "data.dropna(inplace=True)\n",
    "\n",
    "data.info()"
   ]
  },
  {
   "cell_type": "code",
   "execution_count": 14,
   "metadata": {},
   "outputs": [
    {
     "name": "stdout",
     "output_type": "stream",
     "text": [
      "<class 'pandas.core.frame.DataFrame'>\n",
      "Index: 45203 entries, 0 to 45214\n",
      "Data columns (total 17 columns):\n",
      " #   Column     Non-Null Count  Dtype  \n",
      "---  ------     --------------  -----  \n",
      " 0   age        45203 non-null  int64  \n",
      " 1   job        45203 non-null  object \n",
      " 2   marital    45203 non-null  object \n",
      " 3   education  45203 non-null  object \n",
      " 4   default    45203 non-null  object \n",
      " 5   balance    45203 non-null  float64\n",
      " 6   housing    45203 non-null  object \n",
      " 7   loan       45203 non-null  object \n",
      " 8   contact    45203 non-null  object \n",
      " 9   day        45203 non-null  int64  \n",
      " 10  month      45203 non-null  object \n",
      " 11  duration   45203 non-null  float64\n",
      " 12  campaign   45203 non-null  int64  \n",
      " 13  pdays      45203 non-null  float64\n",
      " 14  previous   45203 non-null  int64  \n",
      " 15  poutcome   45203 non-null  object \n",
      " 16  y          45203 non-null  object \n",
      "dtypes: float64(3), int64(4), object(10)\n",
      "memory usage: 6.2+ MB\n"
     ]
    }
   ],
   "source": [
    "data.drop_duplicates(inplace=True)\n",
    "\n",
    "data.info()"
   ]
  },
  {
   "cell_type": "code",
   "execution_count": 15,
   "metadata": {},
   "outputs": [
    {
     "name": "stdout",
     "output_type": "stream",
     "text": [
      "<class 'pandas.core.frame.DataFrame'>\n",
      "Index: 45203 entries, 0 to 45214\n",
      "Data columns (total 16 columns):\n",
      " #   Column     Non-Null Count  Dtype  \n",
      "---  ------     --------------  -----  \n",
      " 0   age        45203 non-null  int64  \n",
      " 1   job        45203 non-null  object \n",
      " 2   marital    45203 non-null  object \n",
      " 3   education  45203 non-null  object \n",
      " 4   default    45203 non-null  object \n",
      " 5   balance    45203 non-null  float64\n",
      " 6   housing    45203 non-null  object \n",
      " 7   loan       45203 non-null  object \n",
      " 8   contact    45203 non-null  object \n",
      " 9   day        45203 non-null  int64  \n",
      " 10  month      45203 non-null  object \n",
      " 11  campaign   45203 non-null  int64  \n",
      " 12  pdays      45203 non-null  float64\n",
      " 13  previous   45203 non-null  int64  \n",
      " 14  poutcome   45203 non-null  object \n",
      " 15  y          45203 non-null  object \n",
      "dtypes: float64(2), int64(4), object(10)\n",
      "memory usage: 5.9+ MB\n"
     ]
    }
   ],
   "source": [
    "del data[\"duration\"]\n",
    "\n",
    "data.info()"
   ]
  },
  {
   "cell_type": "code",
   "execution_count": 16,
   "metadata": {},
   "outputs": [
    {
     "name": "stdout",
     "output_type": "stream",
     "text": [
      "Columna job: 18 subniveles\n",
      "Columna marital: 6 subniveles\n",
      "Columna education: 10 subniveles\n",
      "Columna default: 2 subniveles\n",
      "Columna housing: 2 subniveles\n",
      "Columna loan: 6 subniveles\n",
      "Columna contact: 5 subniveles\n",
      "Columna month: 12 subniveles\n",
      "Columna poutcome: 6 subniveles\n",
      "Columna y: 2 subniveles\n"
     ]
    }
   ],
   "source": [
    "cols_cat = ['job', 'marital', 'education', 'default', 'housing',\n",
    "       'loan', 'contact', 'month', 'poutcome', 'y']\n",
    "\n",
    "for col in cols_cat:\n",
    "  print(f'Columna {col}: {data[col].nunique()} subniveles')"
   ]
  },
  {
   "cell_type": "code",
   "execution_count": 7,
   "metadata": {},
   "outputs": [
    {
     "data": {
      "text/html": [
       "<div>\n",
       "<style scoped>\n",
       "    .dataframe tbody tr th:only-of-type {\n",
       "        vertical-align: middle;\n",
       "    }\n",
       "\n",
       "    .dataframe tbody tr th {\n",
       "        vertical-align: top;\n",
       "    }\n",
       "\n",
       "    .dataframe thead th {\n",
       "        text-align: right;\n",
       "    }\n",
       "</style>\n",
       "<table border=\"1\" class=\"dataframe\">\n",
       "  <thead>\n",
       "    <tr style=\"text-align: right;\">\n",
       "      <th></th>\n",
       "      <th>age</th>\n",
       "      <th>balance</th>\n",
       "      <th>day</th>\n",
       "      <th>campaign</th>\n",
       "      <th>pdays</th>\n",
       "      <th>previous</th>\n",
       "    </tr>\n",
       "  </thead>\n",
       "  <tbody>\n",
       "    <tr>\n",
       "      <th>count</th>\n",
       "      <td>45203.000000</td>\n",
       "      <td>45203.000000</td>\n",
       "      <td>45203.000000</td>\n",
       "      <td>45203.000000</td>\n",
       "      <td>45203.000000</td>\n",
       "      <td>45203.000000</td>\n",
       "    </tr>\n",
       "    <tr>\n",
       "      <th>mean</th>\n",
       "      <td>41.005177</td>\n",
       "      <td>1373.893967</td>\n",
       "      <td>15.807115</td>\n",
       "      <td>2.763843</td>\n",
       "      <td>40.177709</td>\n",
       "      <td>0.580138</td>\n",
       "    </tr>\n",
       "    <tr>\n",
       "      <th>std</th>\n",
       "      <td>12.037387</td>\n",
       "      <td>3923.852086</td>\n",
       "      <td>8.323018</td>\n",
       "      <td>3.098168</td>\n",
       "      <td>100.104768</td>\n",
       "      <td>2.303344</td>\n",
       "    </tr>\n",
       "    <tr>\n",
       "      <th>min</th>\n",
       "      <td>18.000000</td>\n",
       "      <td>-8019.000000</td>\n",
       "      <td>1.000000</td>\n",
       "      <td>1.000000</td>\n",
       "      <td>-1.000000</td>\n",
       "      <td>0.000000</td>\n",
       "    </tr>\n",
       "    <tr>\n",
       "      <th>25%</th>\n",
       "      <td>33.000000</td>\n",
       "      <td>72.000000</td>\n",
       "      <td>8.000000</td>\n",
       "      <td>1.000000</td>\n",
       "      <td>-1.000000</td>\n",
       "      <td>0.000000</td>\n",
       "    </tr>\n",
       "    <tr>\n",
       "      <th>50%</th>\n",
       "      <td>39.000000</td>\n",
       "      <td>448.000000</td>\n",
       "      <td>16.000000</td>\n",
       "      <td>2.000000</td>\n",
       "      <td>-1.000000</td>\n",
       "      <td>0.000000</td>\n",
       "    </tr>\n",
       "    <tr>\n",
       "      <th>75%</th>\n",
       "      <td>48.000000</td>\n",
       "      <td>1427.500000</td>\n",
       "      <td>21.000000</td>\n",
       "      <td>3.000000</td>\n",
       "      <td>-1.000000</td>\n",
       "      <td>0.000000</td>\n",
       "    </tr>\n",
       "    <tr>\n",
       "      <th>max</th>\n",
       "      <td>776.000000</td>\n",
       "      <td>527532.000000</td>\n",
       "      <td>31.000000</td>\n",
       "      <td>63.000000</td>\n",
       "      <td>871.000000</td>\n",
       "      <td>275.000000</td>\n",
       "    </tr>\n",
       "  </tbody>\n",
       "</table>\n",
       "</div>"
      ],
      "text/plain": [
       "                age        balance           day      campaign         pdays  \\\n",
       "count  45203.000000   45203.000000  45203.000000  45203.000000  45203.000000   \n",
       "mean      41.005177    1373.893967     15.807115      2.763843     40.177709   \n",
       "std       12.037387    3923.852086      8.323018      3.098168    100.104768   \n",
       "min       18.000000   -8019.000000      1.000000      1.000000     -1.000000   \n",
       "25%       33.000000      72.000000      8.000000      1.000000     -1.000000   \n",
       "50%       39.000000     448.000000     16.000000      2.000000     -1.000000   \n",
       "75%       48.000000    1427.500000     21.000000      3.000000     -1.000000   \n",
       "max      776.000000  527532.000000     31.000000     63.000000    871.000000   \n",
       "\n",
       "           previous  \n",
       "count  45203.000000  \n",
       "mean       0.580138  \n",
       "std        2.303344  \n",
       "min        0.000000  \n",
       "25%        0.000000  \n",
       "50%        0.000000  \n",
       "75%        0.000000  \n",
       "max      275.000000  "
      ]
     },
     "execution_count": 7,
     "metadata": {},
     "output_type": "execute_result"
    }
   ],
   "source": [
    "data.describe()"
   ]
  },
  {
   "cell_type": "code",
   "execution_count": 8,
   "metadata": {},
   "outputs": [
    {
     "data": {
      "text/html": [
       "<div>\n",
       "<style scoped>\n",
       "    .dataframe tbody tr th:only-of-type {\n",
       "        vertical-align: middle;\n",
       "    }\n",
       "\n",
       "    .dataframe tbody tr th {\n",
       "        vertical-align: top;\n",
       "    }\n",
       "\n",
       "    .dataframe thead th {\n",
       "        text-align: right;\n",
       "    }\n",
       "</style>\n",
       "<table border=\"1\" class=\"dataframe\">\n",
       "  <thead>\n",
       "    <tr style=\"text-align: right;\">\n",
       "      <th></th>\n",
       "      <th>age</th>\n",
       "      <th>job</th>\n",
       "      <th>marital</th>\n",
       "      <th>education</th>\n",
       "      <th>default</th>\n",
       "      <th>balance</th>\n",
       "      <th>housing</th>\n",
       "      <th>loan</th>\n",
       "      <th>contact</th>\n",
       "      <th>day</th>\n",
       "      <th>month</th>\n",
       "      <th>campaign</th>\n",
       "      <th>pdays</th>\n",
       "      <th>previous</th>\n",
       "      <th>poutcome</th>\n",
       "      <th>y</th>\n",
       "    </tr>\n",
       "  </thead>\n",
       "  <tbody>\n",
       "    <tr>\n",
       "      <th>229</th>\n",
       "      <td>530</td>\n",
       "      <td>services</td>\n",
       "      <td>divorced</td>\n",
       "      <td>secondary</td>\n",
       "      <td>no</td>\n",
       "      <td>1467.0</td>\n",
       "      <td>yes</td>\n",
       "      <td>no</td>\n",
       "      <td>unknown</td>\n",
       "      <td>5</td>\n",
       "      <td>may</td>\n",
       "      <td>1</td>\n",
       "      <td>-1.0</td>\n",
       "      <td>0</td>\n",
       "      <td>unknown</td>\n",
       "      <td>no</td>\n",
       "    </tr>\n",
       "    <tr>\n",
       "      <th>1076</th>\n",
       "      <td>490</td>\n",
       "      <td>services</td>\n",
       "      <td>single</td>\n",
       "      <td>primary</td>\n",
       "      <td>no</td>\n",
       "      <td>114.0</td>\n",
       "      <td>yes</td>\n",
       "      <td>no</td>\n",
       "      <td>unknown</td>\n",
       "      <td>7</td>\n",
       "      <td>may</td>\n",
       "      <td>2</td>\n",
       "      <td>-1.0</td>\n",
       "      <td>0</td>\n",
       "      <td>unknown</td>\n",
       "      <td>no</td>\n",
       "    </tr>\n",
       "    <tr>\n",
       "      <th>2229</th>\n",
       "      <td>123</td>\n",
       "      <td>student</td>\n",
       "      <td>single</td>\n",
       "      <td>tertiary</td>\n",
       "      <td>no</td>\n",
       "      <td>250.0</td>\n",
       "      <td>yes</td>\n",
       "      <td>no</td>\n",
       "      <td>unknown</td>\n",
       "      <td>12</td>\n",
       "      <td>may</td>\n",
       "      <td>2</td>\n",
       "      <td>-1.0</td>\n",
       "      <td>0</td>\n",
       "      <td>unknown</td>\n",
       "      <td>no</td>\n",
       "    </tr>\n",
       "    <tr>\n",
       "      <th>3018</th>\n",
       "      <td>332</td>\n",
       "      <td>admin.</td>\n",
       "      <td>single</td>\n",
       "      <td>secondary</td>\n",
       "      <td>no</td>\n",
       "      <td>91.0</td>\n",
       "      <td>yes</td>\n",
       "      <td>no</td>\n",
       "      <td>unknown</td>\n",
       "      <td>14</td>\n",
       "      <td>may</td>\n",
       "      <td>2</td>\n",
       "      <td>-1.0</td>\n",
       "      <td>0</td>\n",
       "      <td>unknown</td>\n",
       "      <td>no</td>\n",
       "    </tr>\n",
       "    <tr>\n",
       "      <th>5799</th>\n",
       "      <td>311</td>\n",
       "      <td>self-employed</td>\n",
       "      <td>single</td>\n",
       "      <td>secondary</td>\n",
       "      <td>no</td>\n",
       "      <td>360.0</td>\n",
       "      <td>yes</td>\n",
       "      <td>no</td>\n",
       "      <td>unknown</td>\n",
       "      <td>26</td>\n",
       "      <td>may</td>\n",
       "      <td>4</td>\n",
       "      <td>-1.0</td>\n",
       "      <td>0</td>\n",
       "      <td>unknown</td>\n",
       "      <td>no</td>\n",
       "    </tr>\n",
       "    <tr>\n",
       "      <th>6053</th>\n",
       "      <td>399</td>\n",
       "      <td>blue-collar</td>\n",
       "      <td>married</td>\n",
       "      <td>primary</td>\n",
       "      <td>no</td>\n",
       "      <td>2805.0</td>\n",
       "      <td>yes</td>\n",
       "      <td>no</td>\n",
       "      <td>unknown</td>\n",
       "      <td>26</td>\n",
       "      <td>may</td>\n",
       "      <td>23</td>\n",
       "      <td>-1.0</td>\n",
       "      <td>0</td>\n",
       "      <td>unknown</td>\n",
       "      <td>no</td>\n",
       "    </tr>\n",
       "    <tr>\n",
       "      <th>28152</th>\n",
       "      <td>466</td>\n",
       "      <td>blue-collar</td>\n",
       "      <td>married</td>\n",
       "      <td>secondary</td>\n",
       "      <td>no</td>\n",
       "      <td>120.0</td>\n",
       "      <td>yes</td>\n",
       "      <td>yes</td>\n",
       "      <td>cellular</td>\n",
       "      <td>29</td>\n",
       "      <td>jan</td>\n",
       "      <td>1</td>\n",
       "      <td>259.0</td>\n",
       "      <td>3</td>\n",
       "      <td>failure</td>\n",
       "      <td>no</td>\n",
       "    </tr>\n",
       "    <tr>\n",
       "      <th>43530</th>\n",
       "      <td>776</td>\n",
       "      <td>retired</td>\n",
       "      <td>married</td>\n",
       "      <td>secondary</td>\n",
       "      <td>no</td>\n",
       "      <td>820.0</td>\n",
       "      <td>no</td>\n",
       "      <td>no</td>\n",
       "      <td>telephone</td>\n",
       "      <td>23</td>\n",
       "      <td>apr</td>\n",
       "      <td>4</td>\n",
       "      <td>-1.0</td>\n",
       "      <td>0</td>\n",
       "      <td>unknown</td>\n",
       "      <td>yes</td>\n",
       "    </tr>\n",
       "  </tbody>\n",
       "</table>\n",
       "</div>"
      ],
      "text/plain": [
       "       age            job   marital  education default  balance housing loan  \\\n",
       "229    530       services  divorced  secondary      no   1467.0     yes   no   \n",
       "1076   490       services    single    primary      no    114.0     yes   no   \n",
       "2229   123        student    single   tertiary      no    250.0     yes   no   \n",
       "3018   332         admin.    single  secondary      no     91.0     yes   no   \n",
       "5799   311  self-employed    single  secondary      no    360.0     yes   no   \n",
       "6053   399    blue-collar   married    primary      no   2805.0     yes   no   \n",
       "28152  466    blue-collar   married  secondary      no    120.0     yes  yes   \n",
       "43530  776        retired   married  secondary      no    820.0      no   no   \n",
       "\n",
       "         contact  day month  campaign  pdays  previous poutcome    y  \n",
       "229      unknown    5   may         1   -1.0         0  unknown   no  \n",
       "1076     unknown    7   may         2   -1.0         0  unknown   no  \n",
       "2229     unknown   12   may         2   -1.0         0  unknown   no  \n",
       "3018     unknown   14   may         2   -1.0         0  unknown   no  \n",
       "5799     unknown   26   may         4   -1.0         0  unknown   no  \n",
       "6053     unknown   26   may        23   -1.0         0  unknown   no  \n",
       "28152   cellular   29   jan         1  259.0         3  failure   no  \n",
       "43530  telephone   23   apr         4   -1.0         0  unknown  yes  "
      ]
     },
     "execution_count": 8,
     "metadata": {},
     "output_type": "execute_result"
    }
   ],
   "source": [
    "data[data[\"age\"] > 100]"
   ]
  },
  {
   "cell_type": "code",
   "execution_count": 17,
   "metadata": {},
   "outputs": [
    {
     "name": "stdout",
     "output_type": "stream",
     "text": [
      "<class 'pandas.core.frame.DataFrame'>\n",
      "Index: 45195 entries, 0 to 45214\n",
      "Data columns (total 16 columns):\n",
      " #   Column     Non-Null Count  Dtype  \n",
      "---  ------     --------------  -----  \n",
      " 0   age        45195 non-null  int64  \n",
      " 1   job        45195 non-null  object \n",
      " 2   marital    45195 non-null  object \n",
      " 3   education  45195 non-null  object \n",
      " 4   default    45195 non-null  object \n",
      " 5   balance    45195 non-null  float64\n",
      " 6   housing    45195 non-null  object \n",
      " 7   loan       45195 non-null  object \n",
      " 8   contact    45195 non-null  object \n",
      " 9   day        45195 non-null  int64  \n",
      " 10  month      45195 non-null  object \n",
      " 11  campaign   45195 non-null  int64  \n",
      " 12  pdays      45195 non-null  float64\n",
      " 13  previous   45195 non-null  int64  \n",
      " 14  poutcome   45195 non-null  object \n",
      " 15  y          45195 non-null  object \n",
      "dtypes: float64(2), int64(4), object(10)\n",
      "memory usage: 5.9+ MB\n"
     ]
    }
   ],
   "source": [
    "data = data[data[\"age\"] < 100]\n",
    "\n",
    "data.info()"
   ]
  },
  {
   "cell_type": "code",
   "execution_count": 18,
   "metadata": {},
   "outputs": [],
   "source": [
    "data.to_excel(\"datosBanco.xlsx\")"
   ]
  },
  {
   "cell_type": "code",
   "execution_count": 2,
   "metadata": {},
   "outputs": [],
   "source": [
    "import pandas as pd\n",
    "\n",
    "\n",
    "data = pd.read_excel('datosBanco.xlsx')"
   ]
  },
  {
   "cell_type": "code",
   "execution_count": 3,
   "metadata": {},
   "outputs": [
    {
     "name": "stdout",
     "output_type": "stream",
     "text": [
      "<class 'pandas.core.frame.DataFrame'>\n",
      "RangeIndex: 45195 entries, 0 to 45194\n",
      "Data columns (total 17 columns):\n",
      " #   Column      Non-Null Count  Dtype \n",
      "---  ------      --------------  ----- \n",
      " 0   Unnamed: 0  45195 non-null  int64 \n",
      " 1   age         45195 non-null  int64 \n",
      " 2   job         45195 non-null  object\n",
      " 3   marital     45195 non-null  object\n",
      " 4   education   45195 non-null  object\n",
      " 5   default     45195 non-null  object\n",
      " 6   balance     45195 non-null  int64 \n",
      " 7   housing     45195 non-null  object\n",
      " 8   loan        45195 non-null  object\n",
      " 9   contact     45195 non-null  object\n",
      " 10  day         45195 non-null  int64 \n",
      " 11  month       45195 non-null  object\n",
      " 12  campaign    45195 non-null  int64 \n",
      " 13  pdays       45195 non-null  int64 \n",
      " 14  previous    45195 non-null  int64 \n",
      " 15  poutcome    45195 non-null  object\n",
      " 16  y           45195 non-null  object\n",
      "dtypes: int64(7), object(10)\n",
      "memory usage: 5.9+ MB\n"
     ]
    }
   ],
   "source": [
    "data.info()"
   ]
  },
  {
   "cell_type": "code",
   "execution_count": 4,
   "metadata": {},
   "outputs": [
    {
     "name": "stdout",
     "output_type": "stream",
     "text": [
      "<class 'pandas.core.frame.DataFrame'>\n",
      "RangeIndex: 45195 entries, 0 to 45194\n",
      "Data columns (total 16 columns):\n",
      " #   Column     Non-Null Count  Dtype \n",
      "---  ------     --------------  ----- \n",
      " 0   age        45195 non-null  int64 \n",
      " 1   job        45195 non-null  object\n",
      " 2   marital    45195 non-null  object\n",
      " 3   education  45195 non-null  object\n",
      " 4   default    45195 non-null  object\n",
      " 5   balance    45195 non-null  int64 \n",
      " 6   housing    45195 non-null  object\n",
      " 7   loan       45195 non-null  object\n",
      " 8   contact    45195 non-null  object\n",
      " 9   day        45195 non-null  int64 \n",
      " 10  month      45195 non-null  object\n",
      " 11  campaign   45195 non-null  int64 \n",
      " 12  pdays      45195 non-null  int64 \n",
      " 13  previous   45195 non-null  int64 \n",
      " 14  poutcome   45195 non-null  object\n",
      " 15  y          45195 non-null  object\n",
      "dtypes: int64(6), object(10)\n",
      "memory usage: 5.5+ MB\n"
     ]
    }
   ],
   "source": [
    "del data[\"Unnamed: 0\"]\n",
    "\n",
    "data.info()"
   ]
  },
  {
   "cell_type": "code",
   "execution_count": 5,
   "metadata": {},
   "outputs": [
    {
     "data": {
      "text/plain": [
       "array(['management', 'technician', 'entrepreneur', 'blue-collar',\n",
       "       'unknown', 'Management', 'retired', 'admin.', 'services',\n",
       "       'self-employed', 'MANAGEMENT', 'Self-employed', 'unemployed',\n",
       "       'housemaid', 'student', 'Services', 'Retired', 'administrative'],\n",
       "      dtype=object)"
      ]
     },
     "execution_count": 5,
     "metadata": {},
     "output_type": "execute_result"
    }
   ],
   "source": [
    "data['job'].unique()"
   ]
  },
  {
   "cell_type": "code",
   "execution_count": 16,
   "metadata": {},
   "outputs": [
    {
     "data": {
      "text/plain": [
       "job\n",
       "MANAGEMENT           2\n",
       "Management           2\n",
       "Retired              1\n",
       "Self-employed        1\n",
       "Services             1\n",
       "admin.            5165\n",
       "administrative       3\n",
       "blue-collar       9727\n",
       "entrepreneur      1487\n",
       "housemaid         1240\n",
       "management        9453\n",
       "retired           2262\n",
       "self-employed     1577\n",
       "services          4151\n",
       "student            937\n",
       "technician        7595\n",
       "unemployed        1303\n",
       "unknown            288\n",
       "Name: age, dtype: int64"
      ]
     },
     "execution_count": 16,
     "metadata": {},
     "output_type": "execute_result"
    }
   ],
   "source": [
    "data.groupby('job')['age'].count()"
   ]
  },
  {
   "cell_type": "code",
   "execution_count": 18,
   "metadata": {},
   "outputs": [
    {
     "data": {
      "text/plain": [
       "array(['management', 'technician', 'entrepreneur', 'blue-collar',\n",
       "       'unknown', 'retired', 'administrative', 'services',\n",
       "       'self-employed', 'unemployed', 'housemaid', 'student'],\n",
       "      dtype=object)"
      ]
     },
     "execution_count": 18,
     "metadata": {},
     "output_type": "execute_result"
    }
   ],
   "source": [
    "data['job'] = data['job'].str.replace('MANAGEMENT','management', regex=False)\n",
    "\n",
    "data['job'] = data['job'].str.replace('Management', 'management', regex=False)\n",
    "\n",
    "data['job'] = data['job'].str.replace('admin.', 'administrative', regex=False)\n",
    "\n",
    "data['job'] = data['job'].str.replace('Self-employed', 'self-employed', regex=False)\n",
    "\n",
    "data['job'] = data['job'].str.replace('Retired', 'retired', regex=False)\n",
    "\n",
    "data['job'] = data['job'].str.replace('Services', 'services', regex=False)\n",
    "\n",
    "data['job'].unique()"
   ]
  },
  {
   "cell_type": "code",
   "execution_count": 19,
   "metadata": {},
   "outputs": [
    {
     "data": {
      "text/plain": [
       "job\n",
       "administrative    5168\n",
       "blue-collar       9727\n",
       "entrepreneur      1487\n",
       "housemaid         1240\n",
       "management        9457\n",
       "retired           2263\n",
       "self-employed     1578\n",
       "services          4152\n",
       "student            937\n",
       "technician        7595\n",
       "unemployed        1303\n",
       "unknown            288\n",
       "Name: age, dtype: int64"
      ]
     },
     "execution_count": 19,
     "metadata": {},
     "output_type": "execute_result"
    }
   ],
   "source": [
    "data.groupby('job')['age'].count()"
   ]
  },
  {
   "cell_type": "code",
   "execution_count": null,
   "metadata": {},
   "outputs": [],
   "source": []
  }
 ],
 "metadata": {
  "kernelspec": {
   "display_name": "Python 3",
   "language": "python",
   "name": "python3"
  },
  "language_info": {
   "codemirror_mode": {
    "name": "ipython",
    "version": 3
   },
   "file_extension": ".py",
   "mimetype": "text/x-python",
   "name": "python",
   "nbconvert_exporter": "python",
   "pygments_lexer": "ipython3",
   "version": "3.12.1"
  }
 },
 "nbformat": 4,
 "nbformat_minor": 2
}
